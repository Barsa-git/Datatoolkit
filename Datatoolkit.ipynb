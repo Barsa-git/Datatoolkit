{
  "nbformat": 4,
  "nbformat_minor": 0,
  "metadata": {
    "colab": {
      "provenance": []
    },
    "kernelspec": {
      "name": "python3",
      "display_name": "Python 3"
    },
    "language_info": {
      "name": "python"
    }
  },
  "cells": [
    {
      "cell_type": "markdown",
      "source": [
        "#DATA TOOLKIT"
      ],
      "metadata": {
        "id": "ZG_8yZCWAMnw"
      }
    },
    {
      "cell_type": "markdown",
      "source": [
        "#Theory Questions : -"
      ],
      "metadata": {
        "id": "8gp8_8g0ASET"
      }
    },
    {
      "cell_type": "markdown",
      "source": [
        "**1**. What is NumPy, and why is it widely used in Python ?\n",
        " - NumPy, short for Numerical Python, is a fundamental library for numerical and scientific computing in Python.\n",
        " - It provides support for large, multi-dimensional arrays and matrices, along with a collection of mathematical functions to operate on these arrays efficiently.\n",
        " - NumPy is widely used due to its following key features : -\n",
        "  - **Efficient Array Operations :**\n",
        "     NumPy arrays are stored contiguously in memory, allowing for faster access and manipulation compared to Python lists.\n",
        "  - **Broadcasting :**\n",
        "     NumPy enables operations between arrays of different shapes, making it easier to perform calculations on large datasets.\n",
        "  - **Mathematical Functions :**\n",
        "     NumPy offers a wide range of built-in mathematical functions, including linear algebra, Fourier transforms, and random number generation.\n",
        "  - **Integration with Other Libraries :**\n",
        "     NumPy serves as the foundation for many other scientific computing libraries in Python, such as Pandas, SciPy, and scikit-learn.\n",
        "  - **Performance :**\n",
        "     NumPy is implemented in C and Fortran, resulting in highly optimized performance for numerical computations.   "
      ],
      "metadata": {
        "id": "HvCeHObZA9zn"
      }
    },
    {
      "cell_type": "markdown",
      "source": [
        "**2**. How does broadcasting work in NumPy ?\n",
        "- In NumPy, broadcasting allows you to perform arithmetic operations on arrays with different shapes by effectively \"stretching\" or replicating the smaller array to match the dimensions of the larger one, enabling element-wise calculations without the need for explicit loops, significantly improving computational efficiency; this happens when specific rules regarding array dimensions are met, where either both dimensions are equal or one of them is 1, allowing for efficient vectorized operations across arrays with compatible shapes.\n",
        "- Key points about broadcasting :\n",
        "  - **Dimension comparison :**\n",
        "     When performing operations between arrays, NumPy compares their shapes dimension-by-dimension, starting from the trailing (rightmost) dimension.\n",
        "  - **Compatibility rule :**\n",
        "     Two dimensions are considered compatible if they are equal or if one of them is 1.\n",
        "  - **Stretching behavior :**\n",
        "     If a dimension in one array has a size of 1, it is \"stretched\" to match the corresponding dimension in the other array during the operation.\n",
        "- Important considerations :\n",
        "  - **Broadcasting limitations :**\n",
        "     If the dimensions of the arrays are not compatible according to the rules, NumPy will raise an error.\n",
        "  - **Efficiency :**\n",
        "     Broadcasting is generally very efficient as it avoids unnecessary data copying and leverages optimized low-level operations.      "
      ],
      "metadata": {
        "id": "-VdRIvq1Dcqm"
      }
    },
    {
      "cell_type": "markdown",
      "source": [
        "**3**. What is a Pandas DataFrame ?\n",
        " - A Pandas DataFrame is a two-dimensional, size-mutable, and potentially heterogeneous tabular data structure with labeled axes (rows and columns).\n",
        " - It is one of the core data structures in the Pandas library, widely used for data manipulation and analysis in Python.\n",
        " - DataFrames can be thought of as a collection of Pandas Series objects that share the same index. Each column in a DataFrame is a Series, and all Series in a DataFrame have the same length.\n",
        " - DataFrames can be created from various data sources, including :\n",
        "  - Dictionaries of lists or NumPy arrays\n",
        "  - Lists of dictionaries\n",
        "  - NumPy arrays\n",
        "  - Other DataFrames\n",
        "  - External files (e.g., CSV, Excel)"
      ],
      "metadata": {
        "id": "sSjuOkYCGtVB"
      }
    },
    {
      "cell_type": "markdown",
      "source": [
        "**4**. Explain the use of the groupby() method in Pandas .\n",
        " - The groupby() method in Pandas is used to group rows in a DataFrame based on one or more columns. It follows a \"split-apply-combine\" strategy.\n",
        " - The data is split into groups based on the values in the specified columns.\n",
        " - A function is applied to each group independently, and the results are combined into a new DataFrame or Series."
      ],
      "metadata": {
        "id": "mDQArkjhIWsi"
      }
    },
    {
      "cell_type": "markdown",
      "source": [
        "**5**. Why is Seaborn preferred for statistical visualizations ?\n",
        " - Seaborn is preferred for statistical visualizations because it provides a high-level interface for creating attractive and informative statistical graphics with minimal code, thanks to its built-in functions specifically designed for common statistical plots, seamless integration with Pandas DataFrames, and aesthetically pleasing default styles, making it easier to quickly explore and understand data compared to lower-level libraries like Matplotlib.\n",
        " - Key reasons why Seaborn is preferred for statistical visualizations : -\n",
        "  - **Simplified syntax : -**\n",
        "     Seaborn functions are designed to be concise, allowing you to create complex statistical plots with just a few lines of code.\n",
        "  - **Pandas integration : -**\n",
        "     Seaborn is tightly integrated with Pandas DataFrames, making it easy to directly visualize data from your DataFrame without extensive data manipulation.\n",
        "  - **Statistical plot types : -**\n",
        "     Seaborn offers a wide variety of statistical plots like box plots, violin plots, strip plots, swarm plots, heatmaps, and relational plots, which are commonly used for data exploration and analysis.\n",
        "  - **Aesthetic defaults : -**\n",
        "     Seaborn comes with well-defined color palettes and themes that produce visually appealing plots without extensive customization.\n",
        "  - **Customization options : -**\n",
        "     While providing convenient defaults, Seaborn still allows for fine-tuning and customization to tailor plots to specific needs."
      ],
      "metadata": {
        "id": "wUODv5Y1JeFJ"
      }
    },
    {
      "cell_type": "markdown",
      "source": [
        "**6**. What are the differences between NumPy arrays and Python lists ?\n",
        " - Python lists and NumPy arrays are both used to store collections of data, but they have fundamental differences that affect their performance and use cases:\n",
        " - Data Type Homogeneity:\n",
        "  - NumPy arrays are designed to store elements of the same data type. Python lists can hold elements of different data types within the same list.\n",
        " - Memory Efficiency:\n",
        "  - NumPy arrays store data in a contiguous block of memory, making them more memory-efficient, especially when dealing with large datasets. Python lists store elements as separate objects, leading to higher memory consumption.\n",
        " - Performance:\n",
        "  - NumPy arrays are optimized for numerical operations and calculations, offering significantly faster performance compared to Python lists, especially for large datasets.\n",
        " - Functionality:\n",
        "  - NumPy provides a wide range of built-in functions for array manipulation, mathematical operations, and linear algebra. Python lists have fewer built-in functionalities and may require more manual coding for similar tasks.\n",
        " - Size Mutability:\n",
        "  - Python lists are dynamic and can change in size. NumPy arrays typically have a fixed size once created, although they can be reshaped or resized with specific operations, often creating a new array in the process.\n",
        " - Multidimensionality:\n",
        "  - NumPy arrays can be multidimensional (e.g., matrices, tensors), while Python lists are inherently one-dimensional, although they can be nested to simulate multidimensional structures."
      ],
      "metadata": {
        "id": "WepZgqngTAcU"
      }
    },
    {
      "cell_type": "markdown",
      "source": [
        "**7**. What is a heatmap, and when should it be used ?\n",
        " - A heatmap is a data visualization tool that uses colors to show values in a grid. Heatmaps are useful for analyzing and presenting large amounts of data, and for understanding how users interact with websites and products.\n",
        " - When to use a heatmap : -\n",
        "  - **To analyze user behavior:** Use heatmaps to see how users interact with a website or product, such as where they click, scroll, or tap\n",
        "  - **To identify patterns and trends:** Use heatmaps to spot patterns and trends in large and complex data sets\n",
        "  - **To improve products:** Use heatmaps to identify elements that are underutilized or overlooked\n",
        "  - **To assess marketing effectiveness:** Use heatmaps to gauge the effectiveness of ads, and to determine where to place call-to-action buttons\n",
        "  - **To analyze foot traffic:** Use heatmaps to analyze foot traffic in retail stores, and to improve resource allocation\n",
        "  - **To monitor production:** Use heatmaps to monitor production performance in manufacturing"
      ],
      "metadata": {
        "id": "KVLVbHLtVm4Z"
      }
    },
    {
      "cell_type": "markdown",
      "source": [
        "**8**. What does the term “vectorized operation” mean in NumPy ?\n",
        " - In NumPy, \"vectorized operations\" refers to performing mathematical operations on entire arrays of data at once, without the need for explicit loops, essentially applying the same operation to each element in the array simultaneously, which significantly improves computational efficiency compared to iterating through each element individually.\n",
        " - Key points about vectorized operations in NumPy : -\n",
        "  - **No explicit loops:**\n",
        "    - Instead of using a loop to process each element in an array, vectorized operations allow you to directly apply operations to the whole array, making the code cleaner and easier to read.\n",
        "  - **Performance boost:**\n",
        "    - By leveraging optimized low-level implementations, vectorized operations can be significantly faster than traditional looping methods, especially when dealing with large datasets.\n",
        "  - **Element-wise operations:**\n",
        "    - When performing operations between two arrays, the corresponding elements from each array are automatically paired and operated on."
      ],
      "metadata": {
        "id": "RRZo9EjEW3uP"
      }
    },
    {
      "cell_type": "markdown",
      "source": [
        "**9**. How does Matplotlib differ from Plotly ?\n",
        " - Matplotlib is primarily used for creating static, highly customizable visualizations, while Plotly excels at generating interactive plots that are well-suited for web applications, with a focus on ease of use and aesthetic appeal, making it ideal for dynamic presentations where users can interact with the data directly through features like hovering and zooming; essentially, Matplotlib gives you more control over plot elements, while Plotly prioritizes interactivity and visual appeal out of the box.\n",
        " - Key differences : -\n",
        "  - **Static vs Interactive:**\n",
        "    - Matplotlib creates static plots, meaning they cannot be manipulated after generation, whereas Plotly allows for interactive elements like hovering, zooming, and data point selection.\n",
        "  - **Customization Level:**\n",
        "    - Matplotlib offers a high degree of customization, allowing users to control every aspect of a plot with detailed code, while Plotly provides a more user-friendly interface with less code required for basic visualizations.\n",
        "  - **Best Use Cases:**\n",
        "    - Matplotlib is excellent for producing publication-quality plots where precise control over visual elements is crucial, while Plotly shines in scenarios where dynamic data exploration and web-based presentations are needed."
      ],
      "metadata": {
        "id": "ARhs_cZvZeEW"
      }
    },
    {
      "cell_type": "markdown",
      "source": [
        "**10**. What is the significance of hierarchical indexing in Pandas ?\n",
        " - Hierarchical indexing, also known as MultiIndex, in Pandas is significant because it allows for the representation and manipulation of data with multiple levels of indexing within a Series or DataFrame. This is particularly useful when working with high-dimensional data or data that has a natural hierarchical structure.\n",
        " - It facilitates : -\n",
        "  - **Data organization:**\n",
        "    - It enables structuring data in a way that reflects inherent relationships between different levels of categories, making it easier to understand and navigate complex datasets.\n",
        "  - **Efficient data selection and slicing:**\n",
        "    - It allows for selecting subsets of data based on multiple index levels, which is more concise and efficient than using boolean indexing or other methods.\n",
        "  - **Data aggregation and grouping:**\n",
        "    - It simplifies performing group-by operations on multiple levels of the index, enabling sophisticated data analysis and summarization.\n",
        "  - **Reshaping and pivoting:**\n",
        "    - It makes it easier to reshape and pivot data, transforming it between different representations for analysis and visualization.\n",
        "  - **Handling high-dimensional data:**\n",
        "    - It provides a way to represent and work with data that has more than two dimensions, overcoming the limitations of standard two-dimensional DataFrames.\n",
        "  - **Clearer Analysis:**\n",
        "    - Complex data analysis becomes more manageable and understandable."
      ],
      "metadata": {
        "id": "TfapuT84a9Tq"
      }
    },
    {
      "cell_type": "markdown",
      "source": [
        "**11**. What is the role of Seaborn’s pairplot() function ?\n",
        " - Seaborn's pairplot() function is used to visualize the pairwise relationships between all numerical variables within a dataset, effectively creating a grid of scatter plots where each cell shows the relationship between two variables, allowing for quick exploration of potential correlations and distributions across multiple features in a single plot, making it a valuable tool for exploratory data analysis (EDA).\n",
        " - Key points about pairplot():\n",
        "  - **Function:**\n",
        "    - Creates a grid of subplots, where each subplot displays the relationship between two variables from the dataset.\n",
        "  - **Visualization type:**\n",
        "    - Typically uses scatter plots to show the relationship between variables, but can be customized to use different plot types.\n",
        "  - **Diagonal plots:**\n",
        "    - The diagonal cells of the grid usually display the distribution of each individual variable (like a histogram or kernel density estimate).\n",
        " - Benefits for EDA:\n",
        "  - Identify potential linear or non-linear relationships between variables\n",
        "  - Detect outliers or unusual data points\n",
        "  - Gain a quick overview of the data distribution across multiple features  "
      ],
      "metadata": {
        "id": "kAAwUw7OcSEr"
      }
    },
    {
      "cell_type": "markdown",
      "source": [
        "**12**. What is the purpose of the describe() function in Pandas ?\n",
        " - The describe() function in Pandas serves to generate descriptive statistics of a DataFrame or Series.\n",
        " - It provides a concise summary of the central tendency, dispersion, and shape of the data distribution, excluding NaN values.\n",
        " - For numerical data, the output includes count, mean, standard deviation, minimum, quartiles (25th, 50th, and 75th percentiles), and maximum values.\n",
        " - For object data types (e.g., strings), it provides count, number of unique values, the most frequent value, and its frequency.\n",
        " - The function is valuable for preliminary data exploration and gaining an initial understanding of the dataset's characteristics."
      ],
      "metadata": {
        "id": "Xs4uhjOmdmRP"
      }
    },
    {
      "cell_type": "markdown",
      "source": [
        "**13**. Why is handling missing data important in Pandas ?\n",
        " - Handling missing data in Pandas is crucial because it directly impacts the quality and reliability of data analysis. Missing values can lead to several problems, including:\n",
        " - **Skewed Results :**\n",
        "  - Missing data can distort statistical analyses and lead to incorrect conclusions.\n",
        " - **Reduced Statistical Power :**\n",
        "  - Missing values reduce the amount of available data, which can decrease the statistical power of tests.\n",
        " - **Biased Estimates :**\n",
        "  - Some methods for handling missing data can introduce bias into the results.\n",
        " - **Incompatible with Algorithms :**\n",
        "  - Many machine learning algorithms cannot handle missing values and require data to be preprocessed.\n",
        " - Pandas provides several methods for handling missing data, such as : -\n",
        "  - **Identifying Missing Values:** Using isnull() and notnull() to detect missing values.\n",
        "  - **Removing Missing Values:** Using dropna() to remove rows or columns with missing values.\n",
        "  - **Replacing Missing Values:** Using fillna() to fill missing values with a specific value, mean, median, or other appropriate value.\n",
        "  - **Imputation:** Using more advanced techniques to estimate missing values based on other data points."
      ],
      "metadata": {
        "id": "alM-etw6eNP4"
      }
    },
    {
      "cell_type": "markdown",
      "source": [
        "**14**. What are the benefits of using Plotly for data visualization ?\n",
        " - Plotly is a popular choice for data visualization due to its versatility in creating a wide range of interactive charts, including basic bar graphs, scatter plots, heatmaps, and 3D visualizations, allowing for deep exploration of data through features like zooming and hovering, all while producing visually appealing and customizable plots; making it a valuable tool for both quick data exploration and presenting complex insights effectively.\n",
        " - Key benefits of using Plotly : -\n",
        "  - **Interactive capabilities:**\n",
        "    - Plotly excels at creating interactive visualizations where users can zoom, pan, hover over data points, and dynamically adjust plot parameters for deeper analysis.\n",
        "  - **Wide variety of chart types:**\n",
        "    - Supports a diverse range of plot types, from basic line and bar charts to advanced 3D graphs, maps, and statistical plots like box plots and violin plots.\n",
        "  - **Ease of use:**\n",
        "    - Plotly offers a user-friendly interface with clear syntax, making it accessible to both beginners and experienced data analysts.\n",
        "  - **Customization options:**\n",
        "    - Extensive customization capabilities allow users to tailor the appearance of their visualizations with different colors, styles, and annotations to effectively communicate data insights.\n",
        "  - **Integration with other tools:**\n",
        "    - Seamless integration with popular data science languages like Python and R, allowing for easy data manipulation and visualization within existing workflows.\n",
        "  - **Data handling automation:**\n",
        "    - Plotly Express simplifies plot creation by automatically handling aspects like axis labels and titles, focusing user attention on data analysis.\n",
        "  - **Sharing and collaboration:**\n",
        "    - Generated visualizations can be easily shared online or embedded into web applications, facilitating collaboration and data communication.\n",
        "  - **Performance optimization:**\n",
        "    - Designed to handle large datasets efficiently, making it suitable for complex visualizations with substantial data points.    "
      ],
      "metadata": {
        "id": "QhZquPmogXAY"
      }
    },
    {
      "cell_type": "markdown",
      "source": [
        "**15**. How does NumPy handle multidimensional arrays ?\n",
        " - NumPy handles multidimensional arrays, also known as ndarrays, as a homogeneous block of data stored contiguously in memory. The structure and interpretation of this data are defined by metadata, allowing for efficient manipulation and computation.\n",
        " - Internally, NumPy stores the array elements in a flattened, one-dimensional array. The shape and strides attributes of the ndarray object provide the mapping from multi-dimensional indices to the corresponding position in the flat data buffer.\n",
        " - Shape:\n",
        "  - A tuple indicating the size of each dimension. For example, a 2x3 matrix would have a shape of (2, 3).\n",
        " - Strides:\n",
        "  - A tuple indicating the number of bytes to step in each dimension when traversing the array. This allows for efficient access to elements without needing to recalculate memory offsets.\n",
        " - NumPy's approach allows for various operations such as slicing, reshaping, and transposing to be performed efficiently by manipulating the metadata rather than the underlying data. This design contributes to NumPy's performance in numerical computations."
      ],
      "metadata": {
        "id": "rbpcjxnbi-1g"
      }
    },
    {
      "cell_type": "markdown",
      "source": [
        "**16**. What is the role of Bokeh in data visualization ?\n",
        " - Bokeh is a Python library primarily used for creating interactive and visually appealing data visualizations, allowing users to generate dynamic plots and charts that can be manipulated with features like zooming, panning, and tooltips, making it a powerful tool for exploring and understanding complex datasets within web applications.\n",
        " - Key points about Bokeh : -\n",
        "  - **Interactive capabilities:**\n",
        "    - Bokeh excels at creating highly interactive visualizations where users can directly interact with the plot by zooming, panning, hovering over data points to see tooltips, and more.\n",
        "  - **Web integration:**\n",
        "    - Bokeh renders visualizations directly in web browsers, enabling easy embedding into web applications and dashboards.\n",
        "  - **Flexibility:**\n",
        "    - While offering common plot types, Bokeh also allows for customization and creation of complex, specialized visualizations.\n",
        "  - **Python integration:**\n",
        "    - Bokeh is built on Python, making it readily accessible to data analysts and developers familiar with the language.\n",
        "  - **Data handling:**\n",
        "    - Bokeh seamlessly integrates with other Python data analysis libraries like Pandas, making it easy to work with large datasets.   "
      ],
      "metadata": {
        "id": "msoLhY8pjynp"
      }
    },
    {
      "cell_type": "markdown",
      "source": [
        "**17**. Explain the difference between apply() and map() in Pandas .\n",
        " - map() and apply() are both used for applying functions to Pandas Series or DataFrames, but they operate at different levels and have different use cases.\n",
        "  - **map():** It operates element-wise on a Series. It can be used with a dictionary, a Series, or a function to map values in the Series to new values. It is optimized for element-wise transformations and is generally faster than apply() for this purpose.\n",
        "  - **apply():** It is more versatile and can be used on both Series and DataFrames. On a Series, it can perform more complex operations than map(), and on a DataFrame, it can operate row-wise or column-wise. It is slower than map() for element-wise operations but more flexible for complex transformations.\n",
        " - In essence, map() is best for simple element-wise transformations on a Series, while apply() is better for more complex operations on Series or row/column-wise operations on DataFrames."
      ],
      "metadata": {
        "id": "gvnElpHUlNS-"
      }
    },
    {
      "cell_type": "markdown",
      "source": [
        "**18**. What are some advanced features of NumPy ?\n",
        " - Some advanced features of NumPy include broadcasting, linear algebra, and array indexing.\n",
        " - **Broadcasting**\n",
        "  - A feature that allows arrays of different shapes to be operated on together\n",
        "  - Automatically expands the smaller array to match the shape of the larger one\n",
        "  - A powerful method for vectorizing computations\n",
        " - **Linear algebra**\n",
        "  - Includes matrix multiplication, decompositions, determinants, and other square matrix math\n",
        "  - An important part of any array library\n",
        " - **Array indexing**\n",
        "  - Includes integer array indexing and boolean array indexing\n",
        "  - Integer array indexing allows users to pass lists for one to one mapping of corresponding elements for each dimension\n",
        "  - Boolean array indexing allows users to pick elements after satisfying a particular Boolean condition"
      ],
      "metadata": {
        "id": "hCW-25m8mQGW"
      }
    },
    {
      "cell_type": "markdown",
      "source": [
        "**19**. How does Pandas simplify time series analysis ?\n",
        " - Pandas simplifies time series analysis through its specialized data structures and functionalities designed for handling time-indexed data.\n",
        " - Here's how Pandas streamlines the process : -\n",
        "  - **DatetimeIndex :**\n",
        "    Pandas provides the DatetimeIndex object, which is optimized for representing sequences of dates and times. It enables efficient indexing, slicing, and resampling of time series data.\n",
        "  - **Time-based indexing and slicing :**\n",
        "    With DatetimeIndex, you can easily select data within specific time ranges using intuitive syntax.\n",
        "  - **Resampling :**\n",
        "    Pandas allows you to change the frequency of your time series data. You can aggregate data into larger time intervals (e.g., daily to monthly) or downsample to smaller intervals (e.g., daily to hourly).\n",
        "  - **Rolling window operations :**\n",
        "    Pandas supports rolling window calculations, which are useful for smoothing time series data or calculating moving averages.\n",
        "  - **Handling missing data :**\n",
        "    Pandas provides tools for dealing with missing values in time series data, such as forward fill, backward fill, and interpolation.\n",
        "  - **Visualization :**\n",
        "    Pandas integrates well with plotting libraries like Matplotlib, enabling easy visualization of time series data.\n",
        "  - **Date range generation :**\n",
        "    Pandas can generate sequences of dates and times, which is useful for creating time series data or filling gaps in existing data.\n",
        "  - **Period and Time zone handling :**\n",
        "    Pandas provides functionalities to handle time periods and time zones effectively. It allows for conversions between different time zones and operations on specific time periods."
      ],
      "metadata": {
        "id": "bCOutAUDnWnj"
      }
    },
    {
      "cell_type": "markdown",
      "source": [
        "**20**. What is the role of a pivot table in Pandas ?\n",
        " - The role of a pivot table in Pandas is to reshape and summarize data within a DataFrame.\n",
        " - It allows the transformation of rows into columns and vice versa, enabling the aggregation of data based on specified index and column values.\n",
        " - Pivot tables are instrumental in data analysis for summarizing large datasets, identifying patterns, and creating insightful reports.\n",
        " -They facilitate flexible analysis by allowing users to dynamically adjust the data view and perform various aggregations like sums, counts, or averages.\n",
        " - Additionally, pivot tables can be used to create more insightful and meaningful visualizations."
      ],
      "metadata": {
        "id": "Z4TxDjer-LCs"
      }
    },
    {
      "cell_type": "markdown",
      "source": [
        "**21**. Why is NumPy’s array slicing faster than Python’s list slicing ?\n",
        " - NumPy array slicing is faster than Python list slicing due to the way data is stored and accessed in memory. NumPy arrays store elements of the same data type contiguously in memory, allowing for efficient access and manipulation. In contrast, Python lists store elements as separate objects scattered in memory, requiring more overhead to access and process.\n",
        " - When slicing a NumPy array, it creates a view of the original data without copying it, which is a very fast operation. This is possible because NumPy knows the data type and memory layout of the array. In contrast, slicing a Python list creates a new list object and copies the sliced elements into it, which is a slower operation.\n",
        " - Furthermore, NumPy utilizes optimized C code for array operations, including slicing, which contributes to its speed advantage over Python lists. These C implementations leverage techniques such as Single Instruction Multiple Data (SIMD) parallelism, which further enhances performance."
      ],
      "metadata": {
        "id": "1A_F50QB_KN_"
      }
    },
    {
      "cell_type": "markdown",
      "source": [
        "**22**. What are some common use cases for Seaborn ?\n",
        " - Seaborn is primarily used for creating statistical visualizations, making it ideal for exploratory data analysis (EDA), where you want to quickly visualize distributions, relationships between variables, and identify patterns within a dataset, particularly when working with Pandas dataframes; common use cases include : -\n",
        "   - **Visualizing distributions :**\n",
        "    Using histograms, kernel density estimation (KDE) plots, and box plots to understand the spread and central tendency of a single variable across different categories.\n",
        "   - **Exploring relationships between variables :**\n",
        "    Creating scatter plots, pair plots, and joint plots to see how two or more variables are correlated with each other.\n",
        "   - **Categorical data visualization :**\n",
        "    Utilizing count plots, bar plots, and strip plots to compare values across different categorical groups.\n",
        "   - **Heatmaps :**\n",
        "    Visualizing correlation matrices between multiple variables using color intensity to represent the strength of relationships.\n",
        "   - **Violin plots :**\n",
        "    Combining aspects of a box plot and KDE plot to show the distribution of a variable across different groups, including potential outliers.\n",
        "   - **Regression analysis visualization :**\n",
        "    Plotting regression lines with confidence intervals to visualize the relationship between a continuous dependent variable and one or more independent variables.\n",
        "   - **Machine learning model evaluation :**\n",
        "    Visualizing metrics like confusion matrices and ROC curves to assess the performance of a machine learning model.   "
      ],
      "metadata": {
        "id": "Q7Q3fHhF_oGi"
      }
    },
    {
      "cell_type": "markdown",
      "source": [
        "#Practical Questions : -"
      ],
      "metadata": {
        "id": "5Y_AQW4LBS3C"
      }
    },
    {
      "cell_type": "markdown",
      "source": [
        "**1**. How do you create a 2D NumPy array and calculate the sum of each row ?\n",
        " - To create a 2D NumPy array and calculate the sum of each row, you can use the np.array() function to create the array, then use the np.sum() function with the axis=1 parameter to sum along the rows (i.e., across each row):"
      ],
      "metadata": {
        "id": "a5YRI3enBsMw"
      }
    },
    {
      "cell_type": "code",
      "source": [
        "import numpy as np\n",
        "# Create a 2D array\n",
        "my_array = np.array([[1, 2, 3], [4, 5, 6], [7, 8, 9]])\n",
        "# Calculate sum of each row\n",
        "row_sums = np.sum(my_array, axis=1)\n",
        "print(row_sums)\n"
      ],
      "metadata": {
        "colab": {
          "base_uri": "https://localhost:8080/"
        },
        "id": "ZeaJCm7tCSom",
        "outputId": "5ee6dfb3-7fd8-47e9-f594-680e54be5579"
      },
      "execution_count": 1,
      "outputs": [
        {
          "output_type": "stream",
          "name": "stdout",
          "text": [
            "[ 6 15 24]\n"
          ]
        }
      ]
    },
    {
      "cell_type": "markdown",
      "source": [
        "**2**.Write a Pandas script to find the mean of a specific column in a DataFrame ."
      ],
      "metadata": {
        "id": "bsLV3eUMCr3Q"
      }
    },
    {
      "cell_type": "code",
      "source": [
        "import pandas as pd\n",
        "import numpy as np\n",
        "\n",
        "# Create a sample DataFrame\n",
        "data = {'col1': [1, 2, 3, 4, 5],\n",
        "        'col2': [6, 7, 8, 9, 10],\n",
        "        'col3': [np.nan, 12, 13, 14, 15]}\n",
        "df = pd.DataFrame(data)\n",
        "\n",
        "# Calculate the mean of 'col1'\n",
        "mean_col1 = df['col1'].mean()\n",
        "print(f\"Mean of col1: {mean_col1}\")\n",
        "\n",
        "# Calculate the mean of 'col2'\n",
        "mean_col2 = df['col2'].mean()\n",
        "print(f\"Mean of col2: {mean_col2}\")\n",
        "\n",
        "# Calculate the mean of 'col3' ignoring NaN values\n",
        "mean_col3_ignoring_nan = df['col3'].mean()\n",
        "print(f\"Mean of col3 (ignoring NaN): {mean_col3_ignoring_nan}\")\n",
        "\n",
        "# Calculate the mean of 'col3' including NaN values\n",
        "mean_col3_including_nan = df['col3'].fillna(0).mean()\n",
        "print(f\"Mean of col3 (including NaN as 0): {mean_col3_including_nan}\")"
      ],
      "metadata": {
        "colab": {
          "base_uri": "https://localhost:8080/"
        },
        "id": "JhzPiJFtDJZD",
        "outputId": "12c67f10-65a7-4fba-f990-d778f68c4440"
      },
      "execution_count": 2,
      "outputs": [
        {
          "output_type": "stream",
          "name": "stdout",
          "text": [
            "Mean of col1: 3.0\n",
            "Mean of col2: 8.0\n",
            "Mean of col3 (ignoring NaN): 13.5\n",
            "Mean of col3 (including NaN as 0): 10.8\n"
          ]
        }
      ]
    },
    {
      "cell_type": "markdown",
      "source": [
        "**3**. Create a scatter plot using Matplotlib .\n"
      ],
      "metadata": {
        "id": "hlO4UCa9DP39"
      }
    },
    {
      "cell_type": "code",
      "source": [
        "#import matplotlib.\n",
        "import matplotlib.pyplot as plt\n",
        "\n",
        "#Define the data for the x and y axes as lists or arrays.\n",
        "x = [1, 2, 3, 4, 5]\n",
        "y = [2, 4, 1, 3, 5]\n",
        "\n",
        "#Use the plt.scatter() function to create the scatter plot, passing the x and y data.\n",
        "#Markers: Change the marker style using the marker argument (e.g., 'o' for circles, 's' for squares, '^' for triangles).\n",
        "#Colors: Modify marker colors with the c argument. You can use color names (e.g., 'red', 'blue'), hex codes (e.g., '#FF0000'), or a sequence of colors for individual points.\n",
        "#Sizes: Adjust marker sizes using the s argument.\n",
        "#Transparency: Control marker transparency with the alpha argument (values between 0 and 1).\n",
        "plt.scatter(x, y, marker='o', c='blue', s=50, alpha=0.7)\n",
        "\n",
        "#Enhance the plot with labels and a title.\n",
        "plt.xlabel(\"X-axis Label\")\n",
        "plt.ylabel(\"Y-axis Label\")\n",
        "plt.title(\"Scatter Plot Example\")\n",
        "\n",
        "#Use plt.show() to display the created scatter plot.\n",
        "plt.show()"
      ],
      "metadata": {
        "colab": {
          "base_uri": "https://localhost:8080/",
          "height": 472
        },
        "id": "Ngw75FYoDcey",
        "outputId": "7787389c-c9a7-4c7f-8181-997352598dd1"
      },
      "execution_count": 3,
      "outputs": [
        {
          "output_type": "display_data",
          "data": {
            "text/plain": [
              "<Figure size 640x480 with 1 Axes>"
            ],
            "image/png": "[encoded data removed]"
          },
          "metadata": {}
        }
      ]
    },
    {
      "cell_type": "markdown",
      "source": [
        "**4**. How do you calculate the correlation matrix using Seaborn and visualize it with a heatmap ?\n",
        ""
      ],
      "metadata": {
        "id": "1gBZdDoqFtaN"
      }
    },
    {
      "cell_type": "code",
      "source": [
        "import seaborn as sns\n",
        "\n",
        "import matplotlib.pyplot as plt\n",
        "\n",
        "# Assuming 'df' is your Pandas DataFrame\n",
        "# Calculate the correlation matrix\n",
        "corr_matrix = df.corr()\n",
        "\n",
        "# Create a heatmap\n",
        "sns.heatmap(corr_matrix,\n",
        "\n",
        "             cmap='coolwarm',  # Choose a colormap\n",
        "\n",
        "             vmin=-1, vmax=1,  # Set color scale range\n",
        "\n",
        "             annot=True,  # Annotate with correlation values\n",
        "\n",
        "             square=True)  # Make cells square\n",
        "plt.title('Correlation Heatmap')\n",
        "plt.show()\n"
      ],
      "metadata": {
        "colab": {
          "base_uri": "https://localhost:8080/",
          "height": 452
        },
        "id": "xkAmQYbcGOx5",
        "outputId": "9a2131a1-26dd-4e6b-b28a-3dadf709053e"
      },
      "execution_count": 5,
      "outputs": [
        {
          "output_type": "display_data",
          "data": {
            "text/plain": [
              "<Figure size 640x480 with 2 Axes>"
            ],
            "image/png": "[encoded data removed]"
          },
          "metadata": {}
        }
      ]
    },
    {
      "cell_type": "markdown",
      "source": [
        "**5**. Generate a bar plot using Plotly ."
      ],
      "metadata": {
        "id": "yX7-PUWUG7Tj"
      }
    },
    {
      "cell_type": "code",
      "source": [
        "import numpy as np\n",
        "import matplotlib.pyplot as plt\n",
        "\n",
        "#Dataset generation\n",
        "data_dict = {'CSE':33, 'ECE':28, 'EEE':30}\n",
        "courses = list(data_dict.keys())\n",
        "values = list(data_dict.values())\n",
        "fig = plt.figure(figsize = (10, 5))\n",
        "\n",
        "#Bar plot\n",
        "plt.bar(courses, values, color ='green',width = 0.5)\n",
        "plt.xlabel(\"Courses offered\")\n",
        "plt.ylabel(\"No. of students enrolled\")\n",
        "plt.title(\"Students enrolled in different courses\")\n",
        "plt.show()"
      ],
      "metadata": {
        "colab": {
          "base_uri": "https://localhost:8080/",
          "height": 487
        },
        "id": "9pEYFVw-HFIi",
        "outputId": "c019955d-10d9-4df5-f239-19c552a9b903"
      },
      "execution_count": 6,
      "outputs": [
        {
          "output_type": "display_data",
          "data": {
            "text/plain": [
              "<Figure size 1000x500 with 1 Axes>"
            ],
            "image/png": "[encoded data removed]"
          },
          "metadata": {}
        }
      ]
    },
    {
      "cell_type": "markdown",
      "source": [
        "**6**. Create a DataFrame and add a new column based on an existing column ."
      ],
      "metadata": {
        "id": "pvKlvcu7H8Or"
      }
    },
    {
      "cell_type": "code",
      "source": [
        "import pandas as pd\n",
        "\n",
        "# Create sample DataFrame\n",
        "data = {'Temperature': [25, 28, 22, 30, 27]}\n",
        "df = pd.DataFrame(data)\n",
        "\n",
        "# Add a new column \"Celsius\" by converting Fahrenheit to Celsius\n",
        "df['Celsius'] = (df['Temperature'] - 32) * 5/9\n",
        "\n",
        "print(df)"
      ],
      "metadata": {
        "colab": {
          "base_uri": "https://localhost:8080/"
        },
        "id": "_60s5n-mIKU5",
        "outputId": "5e1e55c7-10e6-4783-9683-b1e88f5fd233"
      },
      "execution_count": 7,
      "outputs": [
        {
          "output_type": "stream",
          "name": "stdout",
          "text": [
            "   Temperature   Celsius\n",
            "0           25 -3.888889\n",
            "1           28 -2.222222\n",
            "2           22 -5.555556\n",
            "3           30 -1.111111\n",
            "4           27 -2.777778\n"
          ]
        }
      ]
    },
    {
      "cell_type": "markdown",
      "source": [
        "**7**. Write a program to perform element-wise multiplication of two NumPy arrays ."
      ],
      "metadata": {
        "id": "DCZtWJbnIme1"
      }
    },
    {
      "cell_type": "code",
      "source": [
        "import numpy as np\n",
        "\n",
        "def multiply_arrays(array1, array2):\n",
        "    \"\"\"\n",
        "    Performs element-wise multiplication of two NumPy arrays.\n",
        "\n",
        "    Args:\n",
        "        array1 (np.ndarray): The first NumPy array.\n",
        "        array2 (np.ndarray): The second NumPy array.\n",
        "\n",
        "    Returns:\n",
        "        np.ndarray: A new NumPy array containing the element-wise product of array1 and array2.\n",
        "                      Returns None if the arrays are not of the same shape.\n",
        "    \"\"\"\n",
        "    if array1.shape != array2.shape:\n",
        "        print(\"Arrays must have the same shape for element-wise multiplication.\")\n",
        "        return None\n",
        "    return array1 * array2\n",
        "\n",
        "if __name__ == '__main__':\n",
        "    array1 = np.array([[1, 2, 3], [4, 5, 6]])\n",
        "    array2 = np.array([[7, 8, 9], [10, 11, 12]])\n",
        "\n",
        "    result_array = multiply_arrays(array1, array2)\n",
        "\n",
        "    if result_array is not None:\n",
        "        print(\"Array 1:\")\n",
        "        print(array1)\n",
        "        print(\"\\nArray 2:\")\n",
        "        print(array2)\n",
        "        print(\"\\nElement-wise product:\")\n",
        "        print(result_array)"
      ],
      "metadata": {
        "colab": {
          "base_uri": "https://localhost:8080/"
        },
        "id": "a_4YQj9dIyd1",
        "outputId": "765db998-2fa3-483d-8253-a317367bccf7"
      },
      "execution_count": 8,
      "outputs": [
        {
          "output_type": "stream",
          "name": "stdout",
          "text": [
            "Array 1:\n",
            "[[1 2 3]\n",
            " [4 5 6]]\n",
            "\n",
            "Array 2:\n",
            "[[ 7  8  9]\n",
            " [10 11 12]]\n",
            "\n",
            "Element-wise product:\n",
            "[[ 7 16 27]\n",
            " [40 55 72]]\n"
          ]
        }
      ]
    },
    {
      "cell_type": "markdown",
      "source": [
        "**8**. Create a line plot with multiple lines using Matplotlib ."
      ],
      "metadata": {
        "id": "noTlU0mRJfwq"
      }
    },
    {
      "cell_type": "code",
      "source": [
        "import matplotlib.pyplot as plt\n",
        "import numpy as np\n",
        "\n",
        "# Sample data for multiple lines\n",
        "x = np.linspace(0, 10, 100)\n",
        "y1 = np.sin(x)\n",
        "y2 = np.cos(x)\n",
        "y3 = np.sin(x) * np.cos(x)\n",
        "\n",
        "# Create the plot\n",
        "plt.plot(x, y1, label='sin(x)')\n",
        "plt.plot(x, y2, label='cos(x)')\n",
        "plt.plot(x, y3, label='sin(x) * cos(x)')\n",
        "\n",
        "# Add labels and title\n",
        "plt.xlabel('x-axis')\n",
        "plt.ylabel('y-axis')\n",
        "plt.title('Multiple Lines Plot')\n",
        "\n",
        "# Add legend\n",
        "plt.legend()\n",
        "\n",
        "# Display the plot\n",
        "plt.show()"
      ],
      "metadata": {
        "colab": {
          "base_uri": "https://localhost:8080/",
          "height": 472
        },
        "id": "Iu4akGuzJrhX",
        "outputId": "a400b5f5-76e6-4fa8-f712-0b0b518042bc"
      },
      "execution_count": 9,
      "outputs": [
        {
          "output_type": "display_data",
          "data": {
            "text/plain": [
              "<Figure size 640x480 with 1 Axes>"
            ],
            "image/png": "[encoded data removed]"
          },
          "metadata": {}
        }
      ]
    },
    {
      "cell_type": "markdown",
      "source": [
        "**9**. Generate a Pandas DataFrame and filter rows where a column value is greater than a threshold ."
      ],
      "metadata": {
        "id": "sFRecyfbKCdY"
      }
    },
    {
      "cell_type": "code",
      "source": [
        "import pandas as pd\n",
        "import numpy as np\n",
        "\n",
        "# Create a sample DataFrame\n",
        "data = {'col1': np.random.randint(0, 100, 10),\n",
        "        'col2': np.random.rand(10),\n",
        "        'col3': ['A', 'B', 'A', 'C', 'B', 'C', 'A', 'B', 'C', 'A']}\n",
        "df = pd.DataFrame(data)\n",
        "\n",
        "# Define the threshold\n",
        "threshold = 50\n",
        "\n",
        "# Filter rows where 'col1' is greater than the threshold\n",
        "filtered_df = df[df['col1'] > threshold]\n",
        "\n",
        "# Print the original and filtered DataFrames\n",
        "print(\"Original DataFrame:\")\n",
        "print(df)\n",
        "print(\"\\nFiltered DataFrame (col1 > {}):\".format(threshold))\n",
        "print(filtered_df)"
      ],
      "metadata": {
        "colab": {
          "base_uri": "https://localhost:8080/"
        },
        "id": "XeSSeUiWKPPh",
        "outputId": "523cf370-b0a1-4785-92da-8ccfa29c974b"
      },
      "execution_count": 10,
      "outputs": [
        {
          "output_type": "stream",
          "name": "stdout",
          "text": [
            "Original DataFrame:\n",
            "   col1      col2 col3\n",
            "0    34  0.273629    A\n",
            "1    79  0.772758    B\n",
            "2    21  0.478587    A\n",
            "3    95  0.217705    C\n",
            "4    70  0.134729    B\n",
            "5    63  0.199297    C\n",
            "6    99  0.215488    A\n",
            "7    33  0.756218    B\n",
            "8    38  0.097092    C\n",
            "9    98  0.270300    A\n",
            "\n",
            "Filtered DataFrame (col1 > 50):\n",
            "   col1      col2 col3\n",
            "1    79  0.772758    B\n",
            "3    95  0.217705    C\n",
            "4    70  0.134729    B\n",
            "5    63  0.199297    C\n",
            "6    99  0.215488    A\n",
            "9    98  0.270300    A\n"
          ]
        }
      ]
    },
    {
      "cell_type": "markdown",
      "source": [
        "**10**. Create a histogram using Seaborn to visualize a distribution ."
      ],
      "metadata": {
        "id": "l9r5CqEmKmAx"
      }
    },
    {
      "cell_type": "code",
      "source": [
        "penguins = sns.load_dataset(\"penguins\")\n",
        "sns.displot(penguins, x=\"flipper_length_mm\")"
      ],
      "metadata": {
        "colab": {
          "base_uri": "https://localhost:8080/",
          "height": 523
        },
        "id": "RAitrQjsMAxB",
        "outputId": "e91e757c-4027-40bc-dac5-2262b9d23125"
      },
      "execution_count": 12,
      "outputs": [
        {
          "output_type": "execute_result",
          "data": {
            "text/plain": [
              "<seaborn.axisgrid.FacetGrid at 0x7ce13e850c90>"
            ]
          },
          "metadata": {},
          "execution_count": 12
        },
        {
          "output_type": "display_data",
          "data": {
            "text/plain": [
              "<Figure size 500x500 with 1 Axes>"
            ],
            "image/png": "[encoded data removed]"
          },
          "metadata": {}
        }
      ]
    },
    {
      "cell_type": "markdown",
      "source": [
        "**11**. Perform matrix multiplication using NumPy ."
      ],
      "metadata": {
        "id": "gyzfk7sbMJJC"
      }
    },
    {
      "cell_type": "code",
      "source": [
        "# importing the module\n",
        "import numpy as np\n",
        "\n",
        "# creating two matrices\n",
        "p = [[1, 2], [2, 3]]\n",
        "q = [[4, 5], [6, 7]]\n",
        "print(\"Matrix p :\")\n",
        "print(p)\n",
        "print(\"Matrix q :\")\n",
        "print(q)\n",
        "\n",
        "# computing product\n",
        "result = np.dot(p, q)\n",
        "\n",
        "# printing the result\n",
        "print(\"The matrix multiplication is :\")\n",
        "print(result)\n"
      ],
      "metadata": {
        "colab": {
          "base_uri": "https://localhost:8080/"
        },
        "id": "y1G7XDW-NM_E",
        "outputId": "08f5ad62-2803-4c5b-9de9-4b7a9dc89c32"
      },
      "execution_count": 14,
      "outputs": [
        {
          "output_type": "stream",
          "name": "stdout",
          "text": [
            "Matrix p :\n",
            "[[1, 2], [2, 3]]\n",
            "Matrix q :\n",
            "[[4, 5], [6, 7]]\n",
            "The matrix multiplication is :\n",
            "[[16 19]\n",
            " [26 31]]\n"
          ]
        }
      ]
    },
    {
      "cell_type": "markdown",
      "source": [
        "**12**. Use Pandas to load a CSV file and display its first 5 rows ."
      ],
      "metadata": {
        "id": "2q3DxKQQNrK3"
      }
    },
    {
      "cell_type": "code",
      "source": [
        "import pandas as pd\n",
        "\n",
        "# Load the CSV file into a Pandas DataFrame\n",
        "df = pd.read_csv(\"your_file.csv\")\n",
        "\n",
        "# Display the first 5 rows of the DataFrame\n",
        "print(df.head())"
      ],
      "metadata": {
        "id": "pgYdxiyiX32X"
      },
      "execution_count": null,
      "outputs": []
    },
    {
      "cell_type": "markdown",
      "source": [
        "**13**. Create a 3D scatter plot using Plotly ."
      ],
      "metadata": {
        "id": "4TZluijUZhtc"
      }
    },
    {
      "cell_type": "code",
      "source": [
        "import plotly.express as px\n",
        "\n",
        "df = px.data.iris()\n",
        "\n",
        "fig = px.scatter_3d(df, x = 'sepal_width',\n",
        "\t\t\t\t\ty = 'sepal_length',\n",
        "\t\t\t\t\tz = 'petal_width',\n",
        "\t\t\t\t\tcolor = 'species')\n",
        "\n",
        "fig.show()\n"
      ],
      "metadata": {
        "colab": {
          "base_uri": "https://localhost:8080/",
          "height": 542
        },
        "id": "AjUGoQxLZqlE",
        "outputId": "fd2f535c-37fb-4aa4-c6d6-b051f2df2e26"
      },
      "execution_count": 49,
      "outputs": [
        {
          "output_type": "display_data",
          "data": {
            "text/html": [
              "<html>\n",
              "<head><meta charset=\"utf-8\" /></head>\n",
              "<body>\n",
              "    <div>            <script src=\"https://cdnjs.cloudflare.com/ajax/libs/mathjax/2.7.5/MathJax.js?config=TeX-AMS-MML_SVG\"></script><script type=\"text/javascript\">if (window.MathJax && window.MathJax.Hub && window.MathJax.Hub.Config) {window.MathJax.Hub.Config({SVG: {font: \"STIX-Web\"}});}</script>                <script type=\"text/javascript\">window.PlotlyConfig = {MathJaxConfig: 'local'};</script>\n",
              "        <script charset=\"utf-8\" src=\"https://cdn.plot.ly/plotly-2.35.2.min.js\"></script>                <div id=\"822c0f0a-abb2-4273-bb97-77dce247b834\" class=\"plotly-graph-div\" style=\"height:525px; width:100%;\"></div>            <script type=\"text/javascript\">                                    window.PLOTLYENV=window.PLOTLYENV || {};                                    if (document.getElementById(\"822c0f0a-abb2-4273-bb97-77dce247b834\")) {                    Plotly.newPlot(                        \"822c0f0a-abb2-4273-bb97-77dce247b834\",                        [{\"hovertemplate\":\"species=setosa\\u003cbr\\u003esepal_width=%{x}\\u003cbr\\u003esepal_length=%{y}\\u003cbr\\u003epetal_width=%{z}\\u003cextra\\u003e\\u003c\\u002fextra\\u003e\",\"legendgroup\":\"setosa\",\"marker\":{\"color\":\"#636efa\",\"symbol\":\"circle\"},\"mode\":\"markers\",\"name\":\"setosa\",\"scene\":\"scene\",\"showlegend\":true,\"x\":[3.5,3.0,3.2,3.1,3.6,3.9,3.4,3.4,2.9,3.1,3.7,3.4,3.0,3.0,4.0,4.4,3.9,3.5,3.8,3.8,3.4,3.7,3.6,3.3,3.4,3.0,3.4,3.5,3.4,3.2,3.1,3.4,4.1,4.2,3.1,3.2,3.5,3.1,3.0,3.4,3.5,2.3,3.2,3.5,3.8,3.0,3.8,3.2,3.7,3.3],\"y\":[5.1,4.9,4.7,4.6,5.0,5.4,4.6,5.0,4.4,4.9,5.4,4.8,4.8,4.3,5.8,5.7,5.4,5.1,5.7,5.1,5.4,5.1,4.6,5.1,4.8,5.0,5.0,5.2,5.2,4.7,4.8,5.4,5.2,5.5,4.9,5.0,5.5,4.9,4.4,5.1,5.0,4.5,4.4,5.0,5.1,4.8,5.1,4.6,5.3,5.0],\"z\":[0.2,0.2,0.2,0.2,0.2,0.4,0.3,0.2,0.2,0.1,0.2,0.2,0.1,0.1,0.2,0.4,0.4,0.3,0.3,0.3,0.2,0.4,0.2,0.5,0.2,0.2,0.4,0.2,0.2,0.2,0.2,0.4,0.1,0.2,0.1,0.2,0.2,0.1,0.2,0.2,0.3,0.3,0.2,0.6,0.4,0.3,0.2,0.2,0.2,0.2],\"type\":\"scatter3d\"},{\"hovertemplate\":\"species=versicolor\\u003cbr\\u003esepal_width=%{x}\\u003cbr\\u003esepal_length=%{y}\\u003cbr\\u003epetal_width=%{z}\\u003cextra\\u003e\\u003c\\u002fextra\\u003e\",\"legendgroup\":\"versicolor\",\"marker\":{\"color\":\"#EF553B\",\"symbol\":\"circle\"},\"mode\":\"markers\",\"name\":\"versicolor\",\"scene\":\"scene\",\"showlegend\":true,\"x\":[3.2,3.2,3.1,2.3,2.8,2.8,3.3,2.4,2.9,2.7,2.0,3.0,2.2,2.9,2.9,3.1,3.0,2.7,2.2,2.5,3.2,2.8,2.5,2.8,2.9,3.0,2.8,3.0,2.9,2.6,2.4,2.4,2.7,2.7,3.0,3.4,3.1,2.3,3.0,2.5,2.6,3.0,2.6,2.3,2.7,3.0,2.9,2.9,2.5,2.8],\"y\":[7.0,6.4,6.9,5.5,6.5,5.7,6.3,4.9,6.6,5.2,5.0,5.9,6.0,6.1,5.6,6.7,5.6,5.8,6.2,5.6,5.9,6.1,6.3,6.1,6.4,6.6,6.8,6.7,6.0,5.7,5.5,5.5,5.8,6.0,5.4,6.0,6.7,6.3,5.6,5.5,5.5,6.1,5.8,5.0,5.6,5.7,5.7,6.2,5.1,5.7],\"z\":[1.4,1.5,1.5,1.3,1.5,1.3,1.6,1.0,1.3,1.4,1.0,1.5,1.0,1.4,1.3,1.4,1.5,1.0,1.5,1.1,1.8,1.3,1.5,1.2,1.3,1.4,1.4,1.7,1.5,1.0,1.1,1.0,1.2,1.6,1.5,1.6,1.5,1.3,1.3,1.3,1.2,1.4,1.2,1.0,1.3,1.2,1.3,1.3,1.1,1.3],\"type\":\"scatter3d\"},{\"hovertemplate\":\"species=virginica\\u003cbr\\u003esepal_width=%{x}\\u003cbr\\u003esepal_length=%{y}\\u003cbr\\u003epetal_width=%{z}\\u003cextra\\u003e\\u003c\\u002fextra\\u003e\",\"legendgroup\":\"virginica\",\"marker\":{\"color\":\"#00cc96\",\"symbol\":\"circle\"},\"mode\":\"markers\",\"name\":\"virginica\",\"scene\":\"scene\",\"showlegend\":true,\"x\":[3.3,2.7,3.0,2.9,3.0,3.0,2.5,2.9,2.5,3.6,3.2,2.7,3.0,2.5,2.8,3.2,3.0,3.8,2.6,2.2,3.2,2.8,2.8,2.7,3.3,3.2,2.8,3.0,2.8,3.0,2.8,3.8,2.8,2.8,2.6,3.0,3.4,3.1,3.0,3.1,3.1,3.1,2.7,3.2,3.3,3.0,2.5,3.0,3.4,3.0],\"y\":[6.3,5.8,7.1,6.3,6.5,7.6,4.9,7.3,6.7,7.2,6.5,6.4,6.8,5.7,5.8,6.4,6.5,7.7,7.7,6.0,6.9,5.6,7.7,6.3,6.7,7.2,6.2,6.1,6.4,7.2,7.4,7.9,6.4,6.3,6.1,7.7,6.3,6.4,6.0,6.9,6.7,6.9,5.8,6.8,6.7,6.7,6.3,6.5,6.2,5.9],\"z\":[2.5,1.9,2.1,1.8,2.2,2.1,1.7,1.8,1.8,2.5,2.0,1.9,2.1,2.0,2.4,2.3,1.8,2.2,2.3,1.5,2.3,2.0,2.0,1.8,2.1,1.8,1.8,1.8,2.1,1.6,1.9,2.0,2.2,1.5,1.4,2.3,2.4,1.8,1.8,2.1,2.4,2.3,1.9,2.3,2.5,2.3,1.9,2.0,2.3,1.8],\"type\":\"scatter3d\"}],                        {\"template\":{\"data\":{\"histogram2dcontour\":[{\"type\":\"histogram2dcontour\",\"colorbar\":{\"outlinewidth\":0,\"ticks\":\"\"},\"colorscale\":[[0.0,\"#0d0887\"],[0.1111111111111111,\"#46039f\"],[0.2222222222222222,\"#7201a8\"],[0.3333333333333333,\"#9c179e\"],[0.4444444444444444,\"#bd3786\"],[0.5555555555555556,\"#d8576b\"],[0.6666666666666666,\"#ed7953\"],[0.7777777777777778,\"#fb9f3a\"],[0.8888888888888888,\"#fdca26\"],[1.0,\"#f0f921\"]]}],\"choropleth\":[{\"type\":\"choropleth\",\"colorbar\":{\"outlinewidth\":0,\"ticks\":\"\"}}],\"histogram2d\":[{\"type\":\"histogram2d\",\"colorbar\":{\"outlinewidth\":0,\"ticks\":\"\"},\"colorscale\":[[0.0,\"#0d0887\"],[0.1111111111111111,\"#46039f\"],[0.2222222222222222,\"#7201a8\"],[0.3333333333333333,\"#9c179e\"],[0.4444444444444444,\"#bd3786\"],[0.5555555555555556,\"#d8576b\"],[0.6666666666666666,\"#ed7953\"],[0.7777777777777778,\"#fb9f3a\"],[0.8888888888888888,\"#fdca26\"],[1.0,\"#f0f921\"]]}],\"heatmap\":[{\"type\":\"heatmap\",\"colorbar\":{\"outlinewidth\":0,\"ticks\":\"\"},\"colorscale\":[[0.0,\"#0d0887\"],[0.1111111111111111,\"#46039f\"],[0.2222222222222222,\"#7201a8\"],[0.3333333333333333,\"#9c179e\"],[0.4444444444444444,\"#bd3786\"],[0.5555555555555556,\"#d8576b\"],[0.6666666666666666,\"#ed7953\"],[0.7777777777777778,\"#fb9f3a\"],[0.8888888888888888,\"#fdca26\"],[1.0,\"#f0f921\"]]}],\"heatmapgl\":[{\"type\":\"heatmapgl\",\"colorbar\":{\"outlinewidth\":0,\"ticks\":\"\"},\"colorscale\":[[0.0,\"#0d0887\"],[0.1111111111111111,\"#46039f\"],[0.2222222222222222,\"#7201a8\"],[0.3333333333333333,\"#9c179e\"],[0.4444444444444444,\"#bd3786\"],[0.5555555555555556,\"#d8576b\"],[0.6666666666666666,\"#ed7953\"],[0.7777777777777778,\"#fb9f3a\"],[0.8888888888888888,\"#fdca26\"],[1.0,\"#f0f921\"]]}],\"contourcarpet\":[{\"type\":\"contourcarpet\",\"colorbar\":{\"outlinewidth\":0,\"ticks\":\"\"}}],\"contour\":[{\"type\":\"contour\",\"colorbar\":{\"outlinewidth\":0,\"ticks\":\"\"},\"colorscale\":[[0.0,\"#0d0887\"],[0.1111111111111111,\"#46039f\"],[0.2222222222222222,\"#7201a8\"],[0.3333333333333333,\"#9c179e\"],[0.4444444444444444,\"#bd3786\"],[0.5555555555555556,\"#d8576b\"],[0.6666666666666666,\"#ed7953\"],[0.7777777777777778,\"#fb9f3a\"],[0.8888888888888888,\"#fdca26\"],[1.0,\"#f0f921\"]]}],\"surface\":[{\"type\":\"surface\",\"colorbar\":{\"outlinewidth\":0,\"ticks\":\"\"},\"colorscale\":[[0.0,\"#0d0887\"],[0.1111111111111111,\"#46039f\"],[0.2222222222222222,\"#7201a8\"],[0.3333333333333333,\"#9c179e\"],[0.4444444444444444,\"#bd3786\"],[0.5555555555555556,\"#d8576b\"],[0.6666666666666666,\"#ed7953\"],[0.7777777777777778,\"#fb9f3a\"],[0.8888888888888888,\"#fdca26\"],[1.0,\"#f0f921\"]]}],\"mesh3d\":[{\"type\":\"mesh3d\",\"colorbar\":{\"outlinewidth\":0,\"ticks\":\"\"}}],\"scatter\":[{\"fillpattern\":{\"fillmode\":\"overlay\",\"size\":10,\"solidity\":0.2},\"type\":\"scatter\"}],\"parcoords\":[{\"type\":\"parcoords\",\"line\":{\"colorbar\":{\"outlinewidth\":0,\"ticks\":\"\"}}}],\"scatterpolargl\":[{\"type\":\"scatterpolargl\",\"marker\":{\"colorbar\":{\"outlinewidth\":0,\"ticks\":\"\"}}}],\"bar\":[{\"error_x\":{\"color\":\"#2a3f5f\"},\"error_y\":{\"color\":\"#2a3f5f\"},\"marker\":{\"line\":{\"color\":\"#E5ECF6\",\"width\":0.5},\"pattern\":{\"fillmode\":\"overlay\",\"size\":10,\"solidity\":0.2}},\"type\":\"bar\"}],\"scattergeo\":[{\"type\":\"scattergeo\",\"marker\":{\"colorbar\":{\"outlinewidth\":0,\"ticks\":\"\"}}}],\"scatterpolar\":[{\"type\":\"scatterpolar\",\"marker\":{\"colorbar\":{\"outlinewidth\":0,\"ticks\":\"\"}}}],\"histogram\":[{\"marker\":{\"pattern\":{\"fillmode\":\"overlay\",\"size\":10,\"solidity\":0.2}},\"type\":\"histogram\"}],\"scattergl\":[{\"type\":\"scattergl\",\"marker\":{\"colorbar\":{\"outlinewidth\":0,\"ticks\":\"\"}}}],\"scatter3d\":[{\"type\":\"scatter3d\",\"line\":{\"colorbar\":{\"outlinewidth\":0,\"ticks\":\"\"}},\"marker\":{\"colorbar\":{\"outlinewidth\":0,\"ticks\":\"\"}}}],\"scattermapbox\":[{\"type\":\"scattermapbox\",\"marker\":{\"colorbar\":{\"outlinewidth\":0,\"ticks\":\"\"}}}],\"scatterternary\":[{\"type\":\"scatterternary\",\"marker\":{\"colorbar\":{\"outlinewidth\":0,\"ticks\":\"\"}}}],\"scattercarpet\":[{\"type\":\"scattercarpet\",\"marker\":{\"colorbar\":{\"outlinewidth\":0,\"ticks\":\"\"}}}],\"carpet\":[{\"aaxis\":{\"endlinecolor\":\"#2a3f5f\",\"gridcolor\":\"white\",\"linecolor\":\"white\",\"minorgridcolor\":\"white\",\"startlinecolor\":\"#2a3f5f\"},\"baxis\":{\"endlinecolor\":\"#2a3f5f\",\"gridcolor\":\"white\",\"linecolor\":\"white\",\"minorgridcolor\":\"white\",\"startlinecolor\":\"#2a3f5f\"},\"type\":\"carpet\"}],\"table\":[{\"cells\":{\"fill\":{\"color\":\"#EBF0F8\"},\"line\":{\"color\":\"white\"}},\"header\":{\"fill\":{\"color\":\"#C8D4E3\"},\"line\":{\"color\":\"white\"}},\"type\":\"table\"}],\"barpolar\":[{\"marker\":{\"line\":{\"color\":\"#E5ECF6\",\"width\":0.5},\"pattern\":{\"fillmode\":\"overlay\",\"size\":10,\"solidity\":0.2}},\"type\":\"barpolar\"}],\"pie\":[{\"automargin\":true,\"type\":\"pie\"}]},\"layout\":{\"autotypenumbers\":\"strict\",\"colorway\":[\"#636efa\",\"#EF553B\",\"#00cc96\",\"#ab63fa\",\"#FFA15A\",\"#19d3f3\",\"#FF6692\",\"#B6E880\",\"#FF97FF\",\"#FECB52\"],\"font\":{\"color\":\"#2a3f5f\"},\"hovermode\":\"closest\",\"hoverlabel\":{\"align\":\"left\"},\"paper_bgcolor\":\"white\",\"plot_bgcolor\":\"#E5ECF6\",\"polar\":{\"bgcolor\":\"#E5ECF6\",\"angularaxis\":{\"gridcolor\":\"white\",\"linecolor\":\"white\",\"ticks\":\"\"},\"radialaxis\":{\"gridcolor\":\"white\",\"linecolor\":\"white\",\"ticks\":\"\"}},\"ternary\":{\"bgcolor\":\"#E5ECF6\",\"aaxis\":{\"gridcolor\":\"white\",\"linecolor\":\"white\",\"ticks\":\"\"},\"baxis\":{\"gridcolor\":\"white\",\"linecolor\":\"white\",\"ticks\":\"\"},\"caxis\":{\"gridcolor\":\"white\",\"linecolor\":\"white\",\"ticks\":\"\"}},\"coloraxis\":{\"colorbar\":{\"outlinewidth\":0,\"ticks\":\"\"}},\"colorscale\":{\"sequential\":[[0.0,\"#0d0887\"],[0.1111111111111111,\"#46039f\"],[0.2222222222222222,\"#7201a8\"],[0.3333333333333333,\"#9c179e\"],[0.4444444444444444,\"#bd3786\"],[0.5555555555555556,\"#d8576b\"],[0.6666666666666666,\"#ed7953\"],[0.7777777777777778,\"#fb9f3a\"],[0.8888888888888888,\"#fdca26\"],[1.0,\"#f0f921\"]],\"sequentialminus\":[[0.0,\"#0d0887\"],[0.1111111111111111,\"#46039f\"],[0.2222222222222222,\"#7201a8\"],[0.3333333333333333,\"#9c179e\"],[0.4444444444444444,\"#bd3786\"],[0.5555555555555556,\"#d8576b\"],[0.6666666666666666,\"#ed7953\"],[0.7777777777777778,\"#fb9f3a\"],[0.8888888888888888,\"#fdca26\"],[1.0,\"#f0f921\"]],\"diverging\":[[0,\"#8e0152\"],[0.1,\"#c51b7d\"],[0.2,\"#de77ae\"],[0.3,\"#f1b6da\"],[0.4,\"#fde0ef\"],[0.5,\"#f7f7f7\"],[0.6,\"#e6f5d0\"],[0.7,\"#b8e186\"],[0.8,\"#7fbc41\"],[0.9,\"#4d9221\"],[1,\"#276419\"]]},\"xaxis\":{\"gridcolor\":\"white\",\"linecolor\":\"white\",\"ticks\":\"\",\"title\":{\"standoff\":15},\"zerolinecolor\":\"white\",\"automargin\":true,\"zerolinewidth\":2},\"yaxis\":{\"gridcolor\":\"white\",\"linecolor\":\"white\",\"ticks\":\"\",\"title\":{\"standoff\":15},\"zerolinecolor\":\"white\",\"automargin\":true,\"zerolinewidth\":2},\"scene\":{\"xaxis\":{\"backgroundcolor\":\"#E5ECF6\",\"gridcolor\":\"white\",\"linecolor\":\"white\",\"showbackground\":true,\"ticks\":\"\",\"zerolinecolor\":\"white\",\"gridwidth\":2},\"yaxis\":{\"backgroundcolor\":\"#E5ECF6\",\"gridcolor\":\"white\",\"linecolor\":\"white\",\"showbackground\":true,\"ticks\":\"\",\"zerolinecolor\":\"white\",\"gridwidth\":2},\"zaxis\":{\"backgroundcolor\":\"#E5ECF6\",\"gridcolor\":\"white\",\"linecolor\":\"white\",\"showbackground\":true,\"ticks\":\"\",\"zerolinecolor\":\"white\",\"gridwidth\":2}},\"shapedefaults\":{\"line\":{\"color\":\"#2a3f5f\"}},\"annotationdefaults\":{\"arrowcolor\":\"#2a3f5f\",\"arrowhead\":0,\"arrowwidth\":1},\"geo\":{\"bgcolor\":\"white\",\"landcolor\":\"#E5ECF6\",\"subunitcolor\":\"white\",\"showland\":true,\"showlakes\":true,\"lakecolor\":\"white\"},\"title\":{\"x\":0.05},\"mapbox\":{\"style\":\"light\"}}},\"scene\":{\"domain\":{\"x\":[0.0,1.0],\"y\":[0.0,1.0]},\"xaxis\":{\"title\":{\"text\":\"sepal_width\"}},\"yaxis\":{\"title\":{\"text\":\"sepal_length\"}},\"zaxis\":{\"title\":{\"text\":\"petal_width\"}}},\"legend\":{\"title\":{\"text\":\"species\"},\"tracegroupgap\":0},\"margin\":{\"t\":60}},                        {\"responsive\": true}                    ).then(function(){\n",
              "                            \n",
              "var gd = document.getElementById('822c0f0a-abb2-4273-bb97-77dce247b834');\n",
              "var x = new MutationObserver(function (mutations, observer) {{\n",
              "        var display = window.getComputedStyle(gd).display;\n",
              "        if (!display || display === 'none') {{\n",
              "            console.log([gd, 'removed!']);\n",
              "            Plotly.purge(gd);\n",
              "            observer.disconnect();\n",
              "        }}\n",
              "}});\n",
              "\n",
              "// Listen for the removal of the full notebook cells\n",
              "var notebookContainer = gd.closest('#notebook-container');\n",
              "if (notebookContainer) {{\n",
              "    x.observe(notebookContainer, {childList: true});\n",
              "}}\n",
              "\n",
              "// Listen for the clearing of the current output cell\n",
              "var outputEl = gd.closest('.output');\n",
              "if (outputEl) {{\n",
              "    x.observe(outputEl, {childList: true});\n",
              "}}\n",
              "\n",
              "                        })                };                            </script>        </div>\n",
              "</body>\n",
              "</html>"
            ]
          },
          "metadata": {}
        }
      ]
    }
  ]
}